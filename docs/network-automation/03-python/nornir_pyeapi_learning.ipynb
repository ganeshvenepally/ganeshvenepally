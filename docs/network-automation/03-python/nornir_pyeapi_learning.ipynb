{
 "cells": [
  {
   "cell_type": "markdown",
   "metadata": {},
   "source": [
    "## Step 1: Set Up the Environment\n",
    "- Make sure you have the required libraries installed. Run this command in a Jupyter Notebook cell:"
   ]
  },
  {
   "cell_type": "code",
   "execution_count": 2,
   "metadata": {},
   "outputs": [
    {
     "name": "stdout",
     "output_type": "stream",
     "text": [
      "Requirement already satisfied: nornir in c:\\users\\ganes\\.conda\\envs\\pynr\\lib\\site-packages (3.4.1)\n",
      "Requirement already satisfied: nornir_utils in c:\\users\\ganes\\.conda\\envs\\pynr\\lib\\site-packages (0.2.0)\n",
      "Requirement already satisfied: pyeapi in c:\\users\\ganes\\.conda\\envs\\pynr\\lib\\site-packages (1.0.4)\n",
      "Requirement already satisfied: mypy_extensions<2.0.0,>=1.0.0 in c:\\users\\ganes\\.conda\\envs\\pynr\\lib\\site-packages (from nornir) (1.0.0)\n",
      "Requirement already satisfied: ruamel.yaml>=0.17 in c:\\users\\ganes\\.conda\\envs\\pynr\\lib\\site-packages (from nornir) (0.18.6)\n",
      "Requirement already satisfied: colorama<0.5.0,>=0.4.3 in c:\\users\\ganes\\.conda\\envs\\pynr\\lib\\site-packages (from nornir_utils) (0.4.6)\n",
      "Requirement already satisfied: netaddr in c:\\users\\ganes\\.conda\\envs\\pynr\\lib\\site-packages (from pyeapi) (1.3.0)\n",
      "Requirement already satisfied: ruamel.yaml.clib>=0.2.7 in c:\\users\\ganes\\.conda\\envs\\pynr\\lib\\site-packages (from ruamel.yaml>=0.17->nornir) (0.2.8)\n"
     ]
    }
   ],
   "source": [
    "!pip install nornir nornir_utils pyeapi"
   ]
  },
  {
   "cell_type": "markdown",
   "metadata": {},
   "source": [
    "## Step 2: Initialize Nornir\n",
    "- In your notebook, create a new cell and initialize Nornir:"
   ]
  },
  {
   "cell_type": "code",
   "execution_count": 3,
   "metadata": {},
   "outputs": [
    {
     "data": {
      "text/plain": [
       "<nornir.core.Nornir at 0x1ffa3c1e540>"
      ]
     },
     "execution_count": 3,
     "metadata": {},
     "output_type": "execute_result"
    }
   ],
   "source": [
    "from nornir import InitNornir\n",
    "\n",
    "# Initialize Nornir with your config.yaml\n",
    "nr = InitNornir(config_file=\"config.yaml\")\n",
    "\n",
    "# Display the initialized Nornir object\n",
    "nr\n"
   ]
  },
  {
   "cell_type": "markdown",
   "metadata": {},
   "source": [
    "## Step 3: Access Hosts in Inventory\n",
    "- Let’s inspect the hosts in your inventory:"
   ]
  },
  {
   "cell_type": "code",
   "execution_count": 4,
   "metadata": {},
   "outputs": [
    {
     "data": {
      "text/plain": [
       "{'arista_switch1': Host: arista_switch1,\n",
       " 'arista_switch2': Host: arista_switch2}"
      ]
     },
     "execution_count": 4,
     "metadata": {},
     "output_type": "execute_result"
    }
   ],
   "source": [
    "# Display all hosts in the inventory\n",
    "nr.inventory.hosts"
   ]
  },
  {
   "cell_type": "markdown",
   "metadata": {},
   "source": [
    "## Step 4: Access a Single Host’s Details\n",
    "- Access details of one host (e.g., arista_switch1):"
   ]
  },
  {
   "cell_type": "code",
   "execution_count": 5,
   "metadata": {},
   "outputs": [
    {
     "name": "stdout",
     "output_type": "stream",
     "text": [
      "Hostname: 192.168.1.211\n",
      "Usernamme: netadmi1n\n",
      "Password: pass123\n"
     ]
    }
   ],
   "source": [
    "\n",
    "# Get details of a specific host\n",
    "host = nr.inventory.hosts[\"arista_switch1\"]\n",
    "\n",
    "# Print hosname and data\n",
    "print(f\"Hostname: {host.hostname}\")\n",
    "print(f\"Usernamme: {host.username}\")\n",
    "print(f\"Password: {host.password}\")"
   ]
  },
  {
   "cell_type": "markdown",
   "metadata": {},
   "source": [
    "## Step 5: Prepare Connection Details Dictionary\n",
    "- Now, create a connection details dictionary from the host's data:"
   ]
  },
  {
   "cell_type": "code",
   "execution_count": 6,
   "metadata": {},
   "outputs": [
    {
     "name": "stdout",
     "output_type": "stream",
     "text": [
      "{'host': '192.168.1.211', 'username': 'netadmin', 'password': 'pass123', 'port': 443}\n"
     ]
    }
   ],
   "source": [
    "# Prepare Connection Details Dictionary\n",
    "connection_details = {\n",
    "    \"host\" : host.hostname,\n",
    "    \"username\" : host.data[\"username\"],\n",
    "    \"password\" : host.data[\"password\"],\n",
    "    \"port\" : host.port\n",
    "}\n",
    "\n",
    "# Print connection details\n",
    "print(connection_details)"
   ]
  },
  {
   "cell_type": "markdown",
   "metadata": {},
   "source": [
    "## Step 6: Establish pyeapi Connection\n",
    "- Connect to the device using pyeapi:"
   ]
  },
  {
   "cell_type": "code",
   "execution_count": 7,
   "metadata": {},
   "outputs": [
    {
     "name": "stdout",
     "output_type": "stream",
     "text": [
      "EapiConnection(transport=https://192.168.1.211:443//command-api)\n"
     ]
    }
   ],
   "source": [
    "# Establish pyeapi Connection\n",
    "import pyeapi\n",
    "\n",
    "# Establish connection to the device\n",
    "\n",
    "connection = pyeapi.connect(\n",
    "    transport=\"https\",\n",
    "    host = connection_details[\"host\"],\n",
    "    username = connection_details[\"username\"],\n",
    "    password = connection_details[\"password\"],\n",
    "    port = connection_details[\"port\"]\n",
    ")\n",
    "\n",
    "# Verify connection\n",
    "print(connection)"
   ]
  },
  {
   "cell_type": "markdown",
   "metadata": {},
   "source": [
    "## Step 7: Test pyeapi Commands\n",
    "- Run a simple command (e.g., show version) to verify the connection:"
   ]
  },
  {
   "cell_type": "code",
   "execution_count": 8,
   "metadata": {},
   "outputs": [
    {
     "name": "stdout",
     "output_type": "stream",
     "text": [
      "[{'command': 'show version',\n",
      "  'encoding': 'json',\n",
      "  'result': {'architecture': 'i686',\n",
      "             'bootupTimestamp': 1736562121.7597656,\n",
      "             'configMacAddress': '00:00:00:00:00:00',\n",
      "             'hardwareRevision': '',\n",
      "             'hwMacAddress': '00:00:00:00:00:00',\n",
      "             'imageFormatVersion': '1.0',\n",
      "             'imageOptimization': 'None',\n",
      "             'internalBuildId': '91e041b1-47db-4422-b025-5ed27d4ce4a4',\n",
      "             'internalVersion': '4.31.0F-33804048.4310F',\n",
      "             'isIntlVersion': False,\n",
      "             'memFree': 2930284,\n",
      "             'memTotal': 3970668,\n",
      "             'mfgName': 'Arista',\n",
      "             'modelName': 'vEOS-lab',\n",
      "             'serialNumber': '70CAABD5730D408A60D24ADAFFEBEDC0',\n",
      "             'systemMacAddress': '50:27:f6:27:7a:d9',\n",
      "             'uptime': 10673.43,\n",
      "             'version': '4.31.0F'}}]\n"
     ]
    }
   ],
   "source": [
    " # Test pyeapi Commands\n",
    "from pprint import pprint\n",
    " # Create an eAPI client\n",
    "node = pyeapi.client.Node(connection)\n",
    "\n",
    "# Run the \"show version\" command\n",
    "response = node.enable(\"show version\")\n",
    "\n",
    "# Print the raw response\n",
    "pprint(response)\n"
   ]
  },
  {
   "cell_type": "markdown",
   "metadata": {},
   "source": [
    "## Step 8: Extract Specific Details from the Response\n",
    "- Extract specific details from the response, such as the model and version:"
   ]
  },
  {
   "cell_type": "code",
   "execution_count": 19,
   "metadata": {},
   "outputs": [
    {
     "name": "stdout",
     "output_type": "stream",
     "text": [
      "{'architecture': 'i686',\n",
      " 'bootupTimestamp': 1736562121.7597656,\n",
      " 'configMacAddress': '00:00:00:00:00:00',\n",
      " 'hardwareRevision': '',\n",
      " 'hwMacAddress': '00:00:00:00:00:00',\n",
      " 'imageFormatVersion': '1.0',\n",
      " 'imageOptimization': 'None',\n",
      " 'internalBuildId': '91e041b1-47db-4422-b025-5ed27d4ce4a4',\n",
      " 'internalVersion': '4.31.0F-33804048.4310F',\n",
      " 'isIntlVersion': False,\n",
      " 'memFree': 2930284,\n",
      " 'memTotal': 3970668,\n",
      " 'mfgName': 'Arista',\n",
      " 'modelName': 'vEOS-lab',\n",
      " 'serialNumber': '70CAABD5730D408A60D24ADAFFEBEDC0',\n",
      " 'systemMacAddress': '50:27:f6:27:7a:d9',\n",
      " 'uptime': 10673.43,\n",
      " 'version': '4.31.0F'}\n",
      "####################################################################################################\n",
      "\n",
      "\n",
      "Model: vEOS-lab\n",
      "Version: 4.31.0F\n"
     ]
    }
   ],
   "source": [
    "# Extract model and version\n",
    "result = response[0][\"result\"]\n",
    "model = result.get(\"modelName\", \"Unknown Model\")\n",
    "version = result.get(\"version\", \"Unknown Version\")\n",
    "\n",
    "pprint(result)\n",
    "print(\"#\" * 100)\n",
    "print(\"\\n\")\n",
    "# Print details\n",
    "print(f\"Model: {model}\")\n",
    "print(f\"Version: {version}\")"
   ]
  },
  {
   "cell_type": "markdown",
   "metadata": {},
   "source": [
    "## Summary of Steps\n",
    "- Access Host Details: Use nr.inventory.hosts.\n",
    "- Prepare Connection Dictionary: Extract hostname, username, and password.\n",
    "- Establish Connection: Use pyeapi.connect.\n",
    "- Test Commands: Run node.enable() to execute commands.\n",
    "- Extract Data: Parse the response for desired details."
   ]
  }
 ],
 "metadata": {
  "kernelspec": {
   "display_name": "Python 3",
   "language": "python",
   "name": "python3"
  },
  "language_info": {
   "codemirror_mode": {
    "name": "ipython",
    "version": 3
   },
   "file_extension": ".py",
   "mimetype": "text/x-python",
   "name": "python",
   "nbconvert_exporter": "python",
   "pygments_lexer": "ipython3",
   "version": "3.12.3"
  }
 },
 "nbformat": 4,
 "nbformat_minor": 2
}
